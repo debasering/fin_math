{
 "cells": [
  {
   "cell_type": "markdown",
   "id": "c230ec94",
   "metadata": {},
   "source": [
    "Here we present some theory about copulas and code some related stuff"
   ]
  },
  {
   "cell_type": "markdown",
   "id": "23f7789a",
   "metadata": {},
   "source": [
    "## 1. Theory"
   ]
  },
  {
   "cell_type": "markdown",
   "id": "2957e4a3",
   "metadata": {},
   "source": [
    "### 1.1 Basic definitions"
   ]
  },
  {
   "cell_type": "markdown",
   "id": "31fb6818",
   "metadata": {},
   "source": [
    "Here is a (probabilistic) definition of a copula. A function $C: [0, 1]^n \\to [0, 1]$ is a copula iff:\n",
    "\n",
    "1) $C$ is a CDF of an n-dimensional random vector\n",
    "\n",
    "2) $C(1, \\ldots, u_i, \\ldots, 1) = u_i, \\; \\forall i \\in \\{1, \\ldots, n\\}$\n",
    "\n",
    "So $C$ is a CDF of a random vector and all the marginal distributions are simply $U[0, 1]$. \n",
    "\n",
    "$\\;$\n",
    "\n",
    "There is a useful Sklar's theorem that states the following: for any continus CDF $F$ with marginal CDFs $F_1, \\ldots, F_n$ there exists a unique copula $C$ such that:\n",
    "\n",
    "$$\n",
    "F(x_1, \\ldots, x_n) = C(F_1(x_1), \\ldots, F_n(x_n))\n",
    "$$\n",
    "\n",
    "Informaly, from it follows that knowing the copula and the marginal distributions means knowing all the information about the joint distribution"
   ]
  },
  {
   "cell_type": "markdown",
   "id": "0b34e671",
   "metadata": {},
   "source": [
    "### 1.2 Some types of copulas"
   ]
  },
  {
   "cell_type": "markdown",
   "id": "716d10ba",
   "metadata": {},
   "source": [
    "### 1.3 Estimation of copulas"
   ]
  },
  {
   "cell_type": "markdown",
   "id": "c2b3953b",
   "metadata": {},
   "source": [
    "For estimating copulas we need to rewrite the basic joint density in terms of copula's density $c$ and the marginal densities:\n",
    "\n",
    "$$\n",
    "p(x; \\alpha, \\theta) = c(F(x_1; \\alpha_1), \\ldots, F(x_n; \\alpha_n); \\theta)\\cdot p(x_1; \\alpha_1) \\cdot \\ldots \\cdot p(x_n; \\alpha_n)\n",
    "$$\n",
    "\n",
    "Here we have a sophisticated likelihood function:\n",
    "\n",
    "$$\n",
    "\\ell(\\alpha, \\theta) = \\log(c) + \\sum_i \\log(p_i) \n",
    "$$\n",
    "\n",
    "The tough part is that $\\alpha$ presented both in $c$ and $p$ parts. A possible approach here is to maximize the marginals part separately and then maximize $c$ for $\\theta$ (and we hope it is going to be close enough to the analytical maxima)\n",
    "\n",
    "Another approach is to forget about the $\\alpha$ thing and estimate $\\hat{F}$ as emprical CDF's and then maximize $\\log(c)$ just for $\\theta$"
   ]
  },
  {
   "cell_type": "code",
   "execution_count": null,
   "id": "e072663f",
   "metadata": {},
   "outputs": [],
   "source": []
  },
  {
   "cell_type": "code",
   "execution_count": null,
   "id": "82a0c828",
   "metadata": {},
   "outputs": [],
   "source": []
  }
 ],
 "metadata": {
  "kernelspec": {
   "display_name": "Python 3",
   "language": "python",
   "name": "python3"
  },
  "language_info": {
   "codemirror_mode": {
    "name": "ipython",
    "version": 3
   },
   "file_extension": ".py",
   "mimetype": "text/x-python",
   "name": "python",
   "nbconvert_exporter": "python",
   "pygments_lexer": "ipython3",
   "version": "3.7.4"
  }
 },
 "nbformat": 4,
 "nbformat_minor": 5
}
