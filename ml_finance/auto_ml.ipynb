{
 "cells": [
  {
   "cell_type": "markdown",
   "id": "9950de70",
   "metadata": {},
   "source": [
    "# AutoML"
   ]
  },
  {
   "cell_type": "markdown",
   "id": "d66ffe56",
   "metadata": {},
   "source": [
    "### Intro\n",
    "\n",
    "Here we are going to present you an example of bayesian optimization for choosing hyperparameters. \n",
    "\n",
    "Consider the following setting. We believe that $f(x)$ is a gaussian field with expectation $\\mu(x) = 0$ and covariance function $K(x_1, x_2; \\theta)$ which has its own set of parameters $\\theta$. However, in fact we only observe noist signal $y_i = f(x_i) + \\varepsilon_i$. After observing $y_i$ we can write down posterior distribution at the point $x_*$ as:\n",
    "\n",
    "\\begin{eqnarray}\n",
    "    \\mu_* &=& k_*^{T} (K + \\sigma^2I)^{-1} y \\\\\n",
    "    \\sigma^2_* &=& K(x_*, x_*) - k_*^{T} (K + \\sigma^2I)^{-1} k_*,\n",
    "\\end{eqnarray}\n",
    "where K is the covariance matrix of $f(x)$, $\\sigma^2$ is a variance of the noise, $k^*$ is the vector of covariance of the point $x_*$ with the ones that were already observed.\n",
    "\n",
    "We can use it for choosing the next set of hyperparameters to validate our model. Here is the algorithm:\n",
    "\n",
    "1) Pick up some random sets of hyperparameters $z_1, \\ldots, z_k$\n",
    "\n",
    "2) Evaluate posterior distribution\n",
    "\n",
    "3) Pick up a new point using some criteria and repeat steps 2-3\n",
    "\n",
    "We can also recalculate parameters of covariance function using MLE.\n",
    "\n",
    "In this project we are going to compare simple GridSearch with bayesian optimization for choosing hyperparameters of a KernelSVM model."
   ]
  },
  {
   "cell_type": "markdown",
   "id": "bb51052c",
   "metadata": {},
   "source": [
    "### 0. Imports"
   ]
  },
  {
   "cell_type": "code",
   "execution_count": 1,
   "id": "7e614fe1",
   "metadata": {},
   "outputs": [],
   "source": [
    "import matplotlib.pyplot as plt\n",
    "import numpy as np\n",
    "\n",
    "import warnings\n",
    "warnings.filterwarnings('ignore')\n",
    "\n",
    "from itertools import product\n",
    "\n",
    "from sklearn.datasets import make_classification\n",
    "from sklearn.gaussian_process import GaussianProcessRegressor\n",
    "from sklearn.gaussian_process.kernels import RBF, WhiteKernel\n",
    "from sklearn.metrics import roc_auc_score\n",
    "from sklearn.model_selection import train_test_split\n",
    "from sklearn.svm import SVC\n",
    "\n",
    "from tqdm.notebook import tqdm"
   ]
  },
  {
   "cell_type": "markdown",
   "id": "2f7d421f",
   "metadata": {},
   "source": [
    "### 1. Creating custom dataset and perform bruteforce search"
   ]
  },
  {
   "cell_type": "code",
   "execution_count": 2,
   "id": "ef66eca8",
   "metadata": {},
   "outputs": [],
   "source": [
    "X, y = make_classification(n_samples=1000, n_features=20, \n",
    "                           n_informative=15, n_redundant=5,\n",
    "                           flip_y=0.05, random_state=10)\n",
    "\n",
    "X_train, X_test, y_train, y_test = train_test_split(X, y, random_state=10)"
   ]
  },
  {
   "cell_type": "code",
   "execution_count": 3,
   "id": "cd5cd3a7",
   "metadata": {},
   "outputs": [],
   "source": [
    "def estimate_kernel_svm(C, gamma, X_train, y_train, X_test, y_test, random_state=10):\n",
    "    svc = SVC(C=C, gamma=gamma, random_state=random_state)\n",
    "    svc.fit(X_train, y_train)\n",
    "    y_test_pred = svc.decision_function(X_test)\n",
    "    return roc_auc_score(y_test, y_test_pred)"
   ]
  },
  {
   "cell_type": "code",
   "execution_count": 4,
   "id": "3540071e",
   "metadata": {},
   "outputs": [
    {
     "data": {
      "application/vnd.jupyter.widget-view+json": {
       "model_id": "4545ba71c4c244e7af58cd5bf6da2743",
       "version_major": 2,
       "version_minor": 0
      },
      "text/plain": [
       "HBox(children=(IntProgress(value=0, max=71), HTML(value='')))"
      ]
     },
     "metadata": {},
     "output_type": "display_data"
    },
    {
     "name": "stdout",
     "output_type": "stream",
     "text": [
      "\n",
      "C=3.9810717055349776, gamma=0.003981071705534973, ROC-AUC: 0.9533410138248848\n"
     ]
    }
   ],
   "source": [
    "C_values_number = 71\n",
    "gamma_values_number = 71\n",
    "\n",
    "C_range = np.logspace(-4, 3, C_values_number)\n",
    "gamma_range = np.logspace(-4, 3, gamma_values_number)\n",
    "scores = np.zeros((C_values_number, gamma_values_number))\n",
    "\n",
    "best_C = -1\n",
    "best_gamma = -1\n",
    "best_score = -1\n",
    "\n",
    "for C_index in tqdm(range(C_values_number)):\n",
    "    for gamma_index in range(gamma_values_number):\n",
    "        C = C_range[C_index]\n",
    "        gamma = gamma_range[gamma_index]\n",
    "        score = estimate_kernel_svm(C, gamma, X_train, y_train, X_test, y_test)\n",
    "        scores[gamma_index, C_index] = score\n",
    "        if score > best_score:\n",
    "            best_score = score\n",
    "            best_C = C\n",
    "            best_gamma = gamma\n",
    "print('C={}, gamma={}, ROC-AUC: {}'.format(best_C, best_gamma, best_score))"
   ]
  },
  {
   "cell_type": "markdown",
   "id": "e808ef36",
   "metadata": {},
   "source": [
    "### 2. Bayesian optimization"
   ]
  },
  {
   "cell_type": "code",
   "execution_count": 5,
   "id": "13005347",
   "metadata": {},
   "outputs": [
    {
     "data": {
      "application/vnd.jupyter.widget-view+json": {
       "model_id": "4c6cca1ca8514aec8477d47c05b65c70",
       "version_major": 2,
       "version_minor": 0
      },
      "text/plain": [
       "HBox(children=(IntProgress(value=0, max=120), HTML(value='')))"
      ]
     },
     "metadata": {},
     "output_type": "display_data"
    },
    {
     "name": "stdout",
     "output_type": "stream",
     "text": [
      "C=218.77616239495518, gamma=0.00016218100973589298, ROC-AUC: 0.9351638504864312\n"
     ]
    }
   ],
   "source": [
    "np.random.seed(100)\n",
    "\n",
    "C_values_bayes = 701\n",
    "gamma_values_bayes = 701\n",
    "\n",
    "grid = np.array(list(product(np.logspace(-4, 3, C_values_bayes), np.logspace(-4, 3, gamma_values_bayes))))\n",
    "\n",
    "hyperparams = list(grid[np.random.choice(grid.shape[0], size=5, replace=False)])\n",
    "scores_bayes = []\n",
    "\n",
    "for C, gamma in hyperparams:\n",
    "    score = estimate_kernel_svm(C, gamma, X_train, y_train, X_test, y_test)\n",
    "    \n",
    "    C_index = np.argwhere(C_range == C)\n",
    "    gamma_index = np.argwhere(gamma_range == gamma)\n",
    "    \n",
    "    scores_bayes.append(score)\n",
    "\n",
    "\n",
    "best_combination = hyperparams[np.argmax(scores_bayes)]\n",
    "\n",
    "best_score = np.max(scores_bayes)\n",
    "\n",
    "max_iters = 120\n",
    "stop_iters = 20\n",
    "senseless_iters = 0\n",
    "\n",
    "kernel = RBF() + WhiteKernel()\n",
    "\n",
    "\n",
    "for iteration in tqdm(range(max_iters)):\n",
    "    regressor = GaussianProcessRegressor(kernel, random_state=12)\n",
    "    regressor.fit(np.log(np.array(hyperparams)), scores_bayes)\n",
    "    pred, stds = regressor.predict(grid, return_std=True)\n",
    "    \n",
    "    C, gamma = grid[np.argmax(stds)]\n",
    "    hyperparams.append(np.array([C, gamma]))\n",
    "    score = estimate_kernel_svm(C, gamma, X_train, y_train, X_test, y_test)\n",
    "    \n",
    "    scores_bayes.append(score)\n",
    "                   \n",
    "    if score > best_score:\n",
    "        print(score)\n",
    "        best_score = score\n",
    "        best_combination = hyperparams[-1]\n",
    "        \n",
    "        senseless_iters = 0\n",
    "        \n",
    "    else:\n",
    "        senseless_iters += 1\n",
    "    \n",
    "    if senseless_iters == max_iters:\n",
    "        break\n",
    "\n",
    "print('C={}, gamma={}, ROC-AUC: {}'.format(best_combination[0], best_combination[1], best_score))"
   ]
  },
  {
   "cell_type": "markdown",
   "id": "8d9cbc5f",
   "metadata": {},
   "source": [
    "### 3. Heatmap and conclusion"
   ]
  },
  {
   "cell_type": "code",
   "execution_count": 11,
   "id": "1bac17bb",
   "metadata": {},
   "outputs": [
    {
     "data": {
      "image/png": "[encoded data removed]",
      "text/plain": [
       "<Figure size 864x720 with 2 Axes>"
      ]
     },
     "metadata": {
      "needs_background": "light"
     },
     "output_type": "display_data"
    }
   ],
   "source": [
    "XX, YY = np.meshgrid(C_range, gamma_range)\n",
    "plt.figure(figsize=(12, 10))\n",
    "plt.title(\"Heatmap of the surface of unknown funciton\")\n",
    "\n",
    "plt.pcolormesh(XX, YY, scores, shading='auto', cmap='inferno')\n",
    "plt.colorbar()\n",
    "\n",
    "plt.scatter([best_C], [best_gamma], marker='*', color='r', s=100)\n",
    "plt.text(best_C+1, best_gamma, \"grid search\")\n",
    "\n",
    "plt.scatter([best_combination[0]], [best_combination[1]], marker='*', color='g', s=100)\n",
    "plt.text(best_combination[0]+10, best_combination[1], \"bayesian search\")\n",
    "plt.xscale('log')\n",
    "plt.yscale('log')\n",
    "plt.xlabel('$C$')\n",
    "plt.ylabel('$\\gamma$');"
   ]
  },
  {
   "cell_type": "markdown",
   "id": "8ac84db5",
   "metadata": {},
   "source": [
    "What we have obtained:\n",
    "\n",
    "1) Bayesian search can get very close to the optimal value from basic GridSearch\n",
    "\n",
    "2) Bayesian search is faster and we can operate on a significantly more dense grid of values\n",
    "\n",
    "3) GridSearch is much easier to parallelize"
   ]
  },
  {
   "cell_type": "code",
   "execution_count": null,
   "id": "8ecf076b",
   "metadata": {},
   "outputs": [],
   "source": []
  }
 ],
 "metadata": {
  "kernelspec": {
   "display_name": "Python 3",
   "language": "python",
   "name": "python3"
  },
  "language_info": {
   "codemirror_mode": {
    "name": "ipython",
    "version": 3
   },
   "file_extension": ".py",
   "mimetype": "text/x-python",
   "name": "python",
   "nbconvert_exporter": "python",
   "pygments_lexer": "ipython3",
   "version": "3.7.4"
  }
 },
 "nbformat": 4,
 "nbformat_minor": 5
}
